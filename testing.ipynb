{
 "cells": [
  {
   "cell_type": "code",
   "execution_count": 1,
   "metadata": {},
   "outputs": [],
   "source": [
    "\n",
    "from tensorflow.keras.applications.mobilenet_v2 import preprocess_input\n",
    "from tensorflow.keras.preprocessing.image import img_to_array\n",
    "from tensorflow.keras.models import load_model\n",
    "import numpy as np\n",
    "import cv2\n",
    "import os"
   ]
  },
  {
   "cell_type": "code",
   "execution_count": 2,
   "metadata": {},
   "outputs": [],
   "source": [
    "prototxtPath = os.path.sep.join([r'C:\\Users\\ASUS\\OneDrive\\Desktop\\face mask\\detection', 'deploy.prototxt'])\n",
    "weightsPath = os.path.sep.join([r'C:\\Users\\ASUS\\OneDrive\\Desktop\\face mask\\detection', 'res10_300x300_ssd_iter_140000.caffemodel'])\n"
   ]
  },
  {
   "cell_type": "code",
   "execution_count": 3,
   "metadata": {},
   "outputs": [
    {
     "data": {
      "text/plain": [
       "'C:\\\\Users\\\\ASUS\\\\OneDrive\\\\Desktop\\\\face mask\\\\detection\\\\deploy.prototxt'"
      ]
     },
     "execution_count": 3,
     "metadata": {},
     "output_type": "execute_result"
    }
   ],
   "source": [
    "prototxtPath"
   ]
  },
  {
   "cell_type": "code",
   "execution_count": 4,
   "metadata": {},
   "outputs": [
    {
     "data": {
      "text/plain": [
       "'C:\\\\Users\\\\ASUS\\\\OneDrive\\\\Desktop\\\\face mask\\\\detection\\\\res10_300x300_ssd_iter_140000.caffemodel'"
      ]
     },
     "execution_count": 4,
     "metadata": {},
     "output_type": "execute_result"
    }
   ],
   "source": [
    "weightsPath"
   ]
  },
  {
   "cell_type": "code",
   "execution_count": 5,
   "metadata": {},
   "outputs": [],
   "source": [
    "net = cv2.dnn.readNet(prototxtPath, weightsPath)"
   ]
  },
  {
   "cell_type": "code",
   "execution_count": 6,
   "metadata": {},
   "outputs": [],
   "source": [
    "model = load_model(r'C:\\Users\\ASUS\\OneDrive\\Desktop\\face mask\\mobilenet_v2_model')\n"
   ]
  },
  {
   "cell_type": "code",
   "execution_count": 7,
   "metadata": {},
   "outputs": [],
   "source": [
    "image = cv2.imread(r'C:\\Users\\ASUS\\OneDrive\\Desktop\\face mask\\example\\example_03.png')"
   ]
  },
  {
   "cell_type": "code",
   "execution_count": 8,
   "metadata": {},
   "outputs": [
    {
     "data": {
      "text/plain": [
       "array([[[152, 153, 148],\n",
       "        [149, 150, 146],\n",
       "        [149, 150, 146],\n",
       "        ...,\n",
       "        [147, 150, 148],\n",
       "        [145, 148, 146],\n",
       "        [146, 149, 147]],\n",
       "\n",
       "       [[147, 149, 146],\n",
       "        [148, 151, 146],\n",
       "        [150, 152, 147],\n",
       "        ...,\n",
       "        [150, 152, 149],\n",
       "        [146, 149, 147],\n",
       "        [145, 148, 146]],\n",
       "\n",
       "       [[145, 148, 147],\n",
       "        [147, 150, 147],\n",
       "        [150, 154, 149],\n",
       "        ...,\n",
       "        [153, 153, 151],\n",
       "        [150, 152, 150],\n",
       "        [147, 151, 149]],\n",
       "\n",
       "       ...,\n",
       "\n",
       "       [[131, 130, 134],\n",
       "        [129, 129, 132],\n",
       "        [129, 129, 130],\n",
       "        ...,\n",
       "        [173, 177, 181],\n",
       "        [176, 182, 186],\n",
       "        [180, 187, 191]],\n",
       "\n",
       "       [[133, 131, 136],\n",
       "        [127, 128, 130],\n",
       "        [130, 133, 133],\n",
       "        ...,\n",
       "        [179, 184, 187],\n",
       "        [181, 187, 190],\n",
       "        [183, 191, 194]],\n",
       "\n",
       "       [[130, 130, 135],\n",
       "        [127, 128, 133],\n",
       "        [127, 129, 132],\n",
       "        ...,\n",
       "        [184, 189, 192],\n",
       "        [184, 190, 193],\n",
       "        [186, 193, 196]]], dtype=uint8)"
      ]
     },
     "execution_count": 8,
     "metadata": {},
     "output_type": "execute_result"
    }
   ],
   "source": [
    "image"
   ]
  },
  {
   "cell_type": "code",
   "execution_count": 9,
   "metadata": {},
   "outputs": [],
   "source": [
    "(h,w) = image.shape[:2]"
   ]
  },
  {
   "cell_type": "code",
   "execution_count": 10,
   "metadata": {},
   "outputs": [
    {
     "data": {
      "text/plain": [
       "(400, 600)"
      ]
     },
     "execution_count": 10,
     "metadata": {},
     "output_type": "execute_result"
    }
   ],
   "source": [
    "(h, w)"
   ]
  },
  {
   "cell_type": "code",
   "execution_count": 11,
   "metadata": {},
   "outputs": [],
   "source": [
    "blob = cv2.dnn.blobFromImage(image, 1.0, (300, 300), (104.0, 177.0, 123.0))"
   ]
  },
  {
   "cell_type": "code",
   "execution_count": 12,
   "metadata": {},
   "outputs": [
    {
     "data": {
      "text/plain": [
       "array([[[[ 46.,  44.,  46., ...,  47.,  44.,  41.],\n",
       "         [ 43.,  45.,  44., ...,  43.,  46.,  43.],\n",
       "         [ 43.,  44.,  41., ...,  41.,  47.,  46.],\n",
       "         ...,\n",
       "         [ 26.,  27.,  34., ...,  45.,  63.,  73.],\n",
       "         [ 26.,  27.,  32., ...,  52.,  69.,  76.],\n",
       "         [ 25.,  25.,  33., ...,  62.,  77.,  80.]],\n",
       "\n",
       "        [[-26., -27., -24., ..., -26., -27., -29.],\n",
       "         [-27., -25., -26., ..., -27., -26., -27.],\n",
       "         [-26., -25., -25., ..., -29., -25., -26.],\n",
       "         ...,\n",
       "         [-48., -45., -35., ..., -29.,  -8.,   6.],\n",
       "         [-47., -44., -37., ..., -22.,  -1.,  10.],\n",
       "         [-48., -46., -36., ..., -12.,   7.,  14.]],\n",
       "\n",
       "        [[ 24.,  22.,  22., ...,  24.,  24.,  23.],\n",
       "         [ 24.,  24.,  22., ...,  22.,  25.,  25.],\n",
       "         [ 25.,  25.,  22., ...,  20.,  26.,  26.],\n",
       "         ...,\n",
       "         [ 10.,   9.,  20., ...,  28.,  48.,  62.],\n",
       "         [ 10.,  10.,  17., ...,  37.,  56.,  67.],\n",
       "         [ 11.,  10.,  20., ...,  46.,  64.,  71.]]]], dtype=float32)"
      ]
     },
     "execution_count": 12,
     "metadata": {},
     "output_type": "execute_result"
    }
   ],
   "source": [
    "blob"
   ]
  },
  {
   "cell_type": "code",
   "execution_count": 13,
   "metadata": {},
   "outputs": [
    {
     "data": {
      "text/plain": [
       "(1, 3, 300, 300)"
      ]
     },
     "execution_count": 13,
     "metadata": {},
     "output_type": "execute_result"
    }
   ],
   "source": [
    "blob.shape"
   ]
  },
  {
   "cell_type": "code",
   "execution_count": 14,
   "metadata": {},
   "outputs": [],
   "source": [
    "net.setInput(blob)\n",
    "detections = net.forward()"
   ]
  },
  {
   "cell_type": "code",
   "execution_count": 15,
   "metadata": {},
   "outputs": [
    {
     "data": {
      "text/plain": [
       "array([[[[0.        , 1.        , 0.9996724 , ..., 0.18173476,\n",
       "          0.4329286 , 0.4609872 ],\n",
       "         [0.        , 1.        , 0.8111837 , ..., 0.02572085,\n",
       "          0.9942617 , 0.34080845],\n",
       "         [0.        , 1.        , 0.43454096, ..., 0.19513153,\n",
       "          0.65238404, 0.6432173 ],\n",
       "         ...,\n",
       "         [0.        , 0.        , 0.        , ..., 0.        ,\n",
       "          0.        , 0.        ],\n",
       "         [0.        , 0.        , 0.        , ..., 0.        ,\n",
       "          0.        , 0.        ],\n",
       "         [0.        , 0.        , 0.        , ..., 0.        ,\n",
       "          0.        , 0.        ]]]], dtype=float32)"
      ]
     },
     "execution_count": 15,
     "metadata": {},
     "output_type": "execute_result"
    }
   ],
   "source": [
    "detections"
   ]
  },
  {
   "cell_type": "code",
   "execution_count": 16,
   "metadata": {},
   "outputs": [
    {
     "ename": "",
     "evalue": "",
     "output_type": "error",
     "traceback": [
      "\u001b[1;31mCanceled future for execute_request message before replies were done"
     ]
    },
    {
     "ename": "",
     "evalue": "",
     "output_type": "error",
     "traceback": [
      "The Kernel crashed while executing code in the the current cell or a previous cell. Please review the code in the cell(s) to identify a possible cause of the failure. Click <a href='https://aka.ms/vscodeJupyterKernelCrash'>here</a> for more info. View Jupyter <a href='command:jupyter.viewOutput'>log</a> for further details."
     ]
    }
   ],
   "source": [
    "for i in range(0, detections.shape[2]):\n",
    "    confidence = detections[0, 0, i ,2]\n",
    "\n",
    "    if confidence>0.5:\n",
    "        box = detections[0, 0 ,i, 3:7] * np.array([w, h, w, h])\n",
    "        (startX, startY, endX, endY) = box.astype('int')\n",
    "\n",
    "\n",
    "        (startX, startY) = (max(0,startX), max(0, startY))\n",
    "        (endX, endY) = (min(w-1, endX), min(h-1, endY))\n",
    "\n",
    "        face = image[startY: endY, startX: endX]\n",
    "        face = cv2.cvtColor(face, cv2.COLOR_BGR2RGB)\n",
    "        face = cv2.resize(face, (224, 224))\n",
    "        face = img_to_array(face)\n",
    "        face = preprocess_input(face)\n",
    "        face = np.expand_dims(face, axis = 0)\n",
    "\n",
    "        (mask, withoutMask) = model.predict(face)[0]\n",
    "\n",
    "        label = \"Mask\" if mask > withoutMask else \"No Mask\"\n",
    "        color = (0, 255, 0) if label == 'Mask' else (0, 0, 255)\n",
    "\n",
    "        label = \"{}: {:.2f}%\".format(label, max(mask, withoutMask) * 100)\n",
    "\n",
    "        cv2.putText(image, label, (startX, startY - 10), cv2.FONT_HERSHEY_SIMPLEX, 0.45, color, 2)\n",
    "        cv2.rectangle(image, (startX, startY), (endX, endY), color, 2)\n",
    "\n",
    "    cv2.imshow(\"Output\",image)\n",
    "    cv2.waitKey(0)\n",
    "    cv2.destroyAllWindows()\n",
    "\n"
   ]
  },
  {
   "cell_type": "code",
   "execution_count": null,
   "metadata": {},
   "outputs": [],
   "source": []
  }
 ],
 "metadata": {
  "kernelspec": {
   "display_name": "Python 3.9.0 64-bit",
   "language": "python",
   "name": "python3"
  },
  "language_info": {
   "codemirror_mode": {
    "name": "ipython",
    "version": 3
   },
   "file_extension": ".py",
   "mimetype": "text/x-python",
   "name": "python",
   "nbconvert_exporter": "python",
   "pygments_lexer": "ipython3",
   "version": "3.9.0"
  },
  "orig_nbformat": 4,
  "vscode": {
   "interpreter": {
    "hash": "14958d3aee5f1cad06795f787e54b96185c25fb40dfec723a5be941f3a531b8c"
   }
  }
 },
 "nbformat": 4,
 "nbformat_minor": 2
}
